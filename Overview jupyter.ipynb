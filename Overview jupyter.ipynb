{
 "cells": [
  {
   "cell_type": "markdown",
   "id": "b42a398d-edb6-41b3-9271-5fd29b656978",
   "metadata": {},
   "source": [
    "# this is a md cell\n",
    "## heading 2\n",
    "### heading 3\n",
    "\n",
    "- list 1\n",
    "- list 2"
   ]
  },
  {
   "cell_type": "code",
   "execution_count": null,
   "id": "41c9795e-1a71-40da-ae13-0324ab05063c",
   "metadata": {},
   "outputs": [],
   "source": []
  },
  {
   "cell_type": "code",
   "execution_count": 1,
   "id": "760b9c72-4027-4ede-a5dd-10281186265b",
   "metadata": {},
   "outputs": [
    {
     "name": "stdout",
     "output_type": "stream",
     "text": [
      "5\n",
      "9\n"
     ]
    }
   ],
   "source": [
    "# ini comment\n",
    "print(2 + 3)\n",
    "print(3 + 6)"
   ]
  },
  {
   "cell_type": "code",
   "execution_count": 1,
   "id": "c6e3eed8-e30e-4013-bb14-b80d10c3767f",
   "metadata": {},
   "outputs": [
    {
     "name": "stdout",
     "output_type": "stream",
     "text": [
      "5\n",
      "9\n"
     ]
    }
   ],
   "source": [
    "# ini comment\n",
    "print(2 + 3)\n",
    "print(3 + 6)"
   ]
  }
 ],
 "metadata": {
  "kernelspec": {
   "display_name": "Python 3 (ipykernel)",
   "language": "python",
   "name": "python3"
  },
  "language_info": {
   "codemirror_mode": {
    "name": "ipython",
    "version": 3
   },
   "file_extension": ".py",
   "mimetype": "text/x-python",
   "name": "python",
   "nbconvert_exporter": "python",
   "pygments_lexer": "ipython3",
   "version": "3.13.1"
  }
 },
 "nbformat": 4,
 "nbformat_minor": 5
}
