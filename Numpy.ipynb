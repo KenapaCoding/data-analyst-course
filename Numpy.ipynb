{
 "cells": [
  {
   "cell_type": "markdown",
   "id": "5df36fdc-474e-462c-966a-82ed58b9dc8b",
   "metadata": {
    "jp-MarkdownHeadingCollapsed": true
   },
   "source": [
    "### Apa itu NumPy?\n",
    "NumPy (Numerical Python) adalah library Python untuk komputasi numerik yang memungkinkan manipulasi array multi-dimensional dengan berbagai fungsi matematika. NumPy menyediakan struktur data array yang efisien dan berbagai fungsi untuk operasi matematika, manipulasi data, dan analisis statistik. Library ini sangat efisien dan digunakan sebagai dasar untuk banyak library data analyst dan data science lainnya seperti Pandas, SciPy, dan Scikit-learn.\n",
    "\n",
    "#### Pentingnya NumPy untuk Analisis Data\n",
    "- Mempercepat operasi numerik melalui array yang efisien.\n",
    "- Memiliki fungsi bawaan untuk analisis statistik, transformasi data, dan operasi matrix.\n",
    "- Memungkinkan manipulasi dataset besar dengan cepat."
   ]
  },
  {
   "cell_type": "markdown",
   "id": "7f780f61-e58d-4c89-b32b-231fc0212cce",
   "metadata": {},
   "source": [
    "### Instalasi NumPy\n",
    "Untuk menginstal NumPy, gunakan perintah berikut di terminal atau command prompt:\n",
    "` pip install numpy `"
   ]
  },
  {
   "cell_type": "code",
   "execution_count": 1,
   "id": "d70caa27-5905-492e-9094-e90ca0c28806",
   "metadata": {},
   "outputs": [
    {
     "name": "stdout",
     "output_type": "stream",
     "text": [
      "Requirement already satisfied: numpy in c:\\users\\ranggo\\appdata\\local\\programs\\python\\python313\\lib\\site-packages (2.2.0)\n",
      "Note: you may need to restart the kernel to use updated packages.\n"
     ]
    }
   ],
   "source": [
    "pip install numpy"
   ]
  },
  {
   "cell_type": "code",
   "execution_count": 2,
   "id": "03127686-7cf7-4b1c-9e0c-3bd14542e24c",
   "metadata": {},
   "outputs": [],
   "source": [
    "import numpy as np\n",
    "import random\n",
    "\n",
    "# Buat data random dengan ukuran 10.000.000\n",
    "size = 10\n",
    "\n",
    "# Data Gaji Karyawan\n",
    "gaji_karyawan = [random.randint(5000000, 15000000) for _ in range(size)]\n",
    "\n",
    "# Data array Gaji\n",
    "array_gaji = np.array(gaji_karyawan)\n",
    "# print(gaji_karyawan)"
   ]
  },
  {
   "cell_type": "code",
   "execution_count": 3,
   "id": "af2692e9-852b-4236-939c-9d6b3ede6019",
   "metadata": {},
   "outputs": [
    {
     "name": "stdout",
     "output_type": "stream",
     "text": [
      "251 ns ± 28.3 ns per loop (mean ± std. dev. of 7 runs, 1,000,000 loops each)\n"
     ]
    }
   ],
   "source": [
    "%%timeit\n",
    "# Mencari rata rata gaji dengan python\n",
    "avg_gaji = sum(gaji_karyawan) / len(gaji_karyawan)"
   ]
  },
  {
   "cell_type": "code",
   "execution_count": 4,
   "id": "20997adf-e6ed-470a-886e-0950f7ed0800",
   "metadata": {},
   "outputs": [
    {
     "name": "stdout",
     "output_type": "stream",
     "text": [
      "11.5 μs ± 420 ns per loop (mean ± std. dev. of 7 runs, 100,000 loops each)\n"
     ]
    }
   ],
   "source": [
    "%%timeit\n",
    "# Mencari rata rata gaji dengan numpy python\n",
    "avg_gaji1 = np.mean(array_gaji)"
   ]
  },
  {
   "cell_type": "markdown",
   "id": "d682bd0f-4f17-43c7-a0f6-f0a736a8a716",
   "metadata": {},
   "source": [
    "#### Alasan:\n",
    "NumPy dirancang untuk bekerja lebih cepat pada array besar karena dioptimalkan untuk operasi vektor (berbasis C). Namun, pada array kecil (misalnya list Python sederhana), overhead NumPy untuk memuat fungsi dan struktur data tambahan membuatnya lebih lambat.\n",
    "\n",
    "Python bawaan lebih ringan untuk operasi sederhana seperti sum() dan len() pada list kecil."
   ]
  },
  {
   "cell_type": "markdown",
   "id": "fbeef00a-5595-4f05-a6c8-2c0e19d9f5cc",
   "metadata": {},
   "source": [
    "### Membuat Array dari List\n",
    "\n",
    "Array dapat dibuat dari list Python. Array NumPy lebih efisien dibandingkan list karena memiliki tipe data homogen.\n",
    "\n",
    "\n",
    "- Membuat array 1D, 2D, dan 3D dari list\n",
    "\n",
    "- Menggunakan fungsi ```np.array()```\n",
    "\n",
    "- Mengatur tipe data pada array"
   ]
  },
  {
   "cell_type": "code",
   "execution_count": 5,
   "id": "79d7e095-3a84-4622-b8b8-3627cd4b06a3",
   "metadata": {},
   "outputs": [
    {
     "name": "stdout",
     "output_type": "stream",
     "text": [
      "array 1D : [1. 2. 3. 4. 5.]\n",
      "array 2D : \n",
      " [[1 2 3]\n",
      " [4 5 6]]\n",
      "array 3D : \n",
      " [[[1 2]\n",
      "  [3 4]]\n",
      "\n",
      " [[5 6]\n",
      "  [7 8]]]\n"
     ]
    }
   ],
   "source": [
    "# Membuat array 1D dengan function np.array()\n",
    "list_1D = [1,2,3,4,5]\n",
    "array_1D = np.array(list_1D, dtype=float)\n",
    "print(f\"array 1D : {array_1D}\")\n",
    "\n",
    "# Membuat array 2D \n",
    "list_2D = [[1,2,3],[4,5,6]]\n",
    "array_2D = np.array(list_2D)\n",
    "print(f\"array 2D : \\n {array_2D}\")\n",
    "\n",
    "# Membuat array 3D \n",
    "list_3D = [[[1,2],[3,4]],[[5,6],[7,8]]]\n",
    "array_3D = np.array(list_3D)\n",
    "print(f\"array 3D : \\n {array_3D}\")\n"
   ]
  },
  {
   "cell_type": "code",
   "execution_count": 6,
   "id": "0c8ac165-9796-489d-b4c2-8724d8e5df60",
   "metadata": {},
   "outputs": [
    {
     "data": {
      "text/plain": [
       "dtype('float64')"
      ]
     },
     "execution_count": 6,
     "metadata": {},
     "output_type": "execute_result"
    }
   ],
   "source": [
    "array_1D.dtype"
   ]
  },
  {
   "cell_type": "markdown",
   "id": "002b9592-54ee-455d-864e-5fcf735e593f",
   "metadata": {},
   "source": [
    "### Membuat Array dengan np.arange()\n",
    "\n",
    "Fungsi np.arange() digunakan untuk membuat array dengan elemen yang memiliki rentang tertentu dan langkah tertentu (mirip fungsi range() di Python).\n",
    "\n",
    "Sintaks:\n",
    "```\n",
    "np.arange(start, stop, step, dtype=None)\n",
    "```\n",
    "- start: Nilai awal (default 0).\n",
    "\n",
    "- stop: Nilai akhir (tidak termasuk).\n",
    "\n",
    "- step: Langkah antar elemen (default 1).\n",
    "\n",
    "- dtype: Tipe data elemen (opsional)."
   ]
  },
  {
   "cell_type": "code",
   "execution_count": 7,
   "id": "e22647b4-5eec-4389-bf9b-3289c3082688",
   "metadata": {},
   "outputs": [
    {
     "name": "stdout",
     "output_type": "stream",
     "text": [
      "Array 0 sampai 9 : [0 1 2 3 4 5 6 7 8 9]\n",
      "Array 0 sampai 9 : [ 1.  3.  5.  7.  9. 11. 13. 15. 17. 19.]\n"
     ]
    }
   ],
   "source": [
    "# Membuat array dari 0 hingga 9 step 1\n",
    "array1 = np.arange(10)\n",
    "print(f\"Array 0 sampai 9 : {array1}\")\n",
    "\n",
    "# Membuat array dari 1 hingga 20 step 2\n",
    "array2 = np.arange(1,21,2, dtype=float)\n",
    "print(f\"Array 0 sampai 9 : {array2}\")"
   ]
  },
  {
   "cell_type": "markdown",
   "id": "ecc90cc3-1fd7-43f8-9f0b-8354ae1274bd",
   "metadata": {},
   "source": [
    "### Membuat Array dengan np.zeros() dan np.ones()\n",
    "\n",
    "Fungsi np.zeros() dan np.ones() digunakan untuk membuat array yang elemen-elemennya semua nol atau satu.\n",
    "\n",
    "Sintaks:\n",
    "\n",
    "- ``` np.zeros(shape, dtype=float) ```\n",
    "\n",
    "- ``` np.ones(shape, dtype=float) ```\n",
    "\n",
    "Parameter:\n",
    "\n",
    "- shape: Dimensi array (tuple atau integer).\n",
    "\n",
    "- dtype: Tipe data elemen (default float)."
   ]
  },
  {
   "cell_type": "code",
   "execution_count": 23,
   "id": "a30ba09c-199b-4385-a0e1-3f94962aade2",
   "metadata": {},
   "outputs": [
    {
     "name": "stdout",
     "output_type": "stream",
     "text": [
      "Array 1D nol: [0 0 0 0 0]\n",
      "Array 2D satu: [[[1 1 1]\n",
      "  [1 1 1]]\n",
      "\n",
      " [[1 1 1]\n",
      "  [1 1 1]]]\n"
     ]
    }
   ],
   "source": [
    "# Membuat array 1D nol\n",
    "array_zeros = np.zeros(5, dtype=int)\n",
    "print(f\"Array 1D nol: {array_zeros}\")\n",
    "\n",
    "# Membuat array 3D satu\n",
    "array_ones = np.ones((2,2,3), dtype=int)\n",
    "print(f\"Array 2D satu: {array_ones}\")"
   ]
  },
  {
   "cell_type": "markdown",
   "id": "9e3b6e48-ff7f-455f-b169-9b32e2378dd0",
   "metadata": {
    "jp-MarkdownHeadingCollapsed": true
   },
   "source": [
    "### Mengatur Dimensi Array\n",
    "\n",
    "- Setelah membuat array, dimensi array dapat diubah menggunakan atribut .reshape() atau .shape.\n",
    "- Untuk meratakan array dengan menggunakan flatten() "
   ]
  },
  {
   "cell_type": "code",
   "execution_count": 33,
   "id": "b846c6c6-d398-4556-bd15-103ce0a36204",
   "metadata": {},
   "outputs": [
    {
     "name": "stdout",
     "output_type": "stream",
     "text": [
      "array asli : [ 0  1  2  3  4  5  6  7  8  9 10 11]\n",
      "array 2D : [[ 0  1  2  3]\n",
      " [ 4  5  6  7]\n",
      " [ 8  9 10 11]]\n",
      "array 3D : [[[ 0  1  2]\n",
      "  [ 3  4  5]]\n",
      "\n",
      " [[ 6  7  8]\n",
      "  [ 9 10 11]]]\n",
      "[[ 0  1]\n",
      " [ 2  3]\n",
      " [ 4  5]\n",
      " [ 6  7]\n",
      " [ 8  9]\n",
      " [10 11]]\n",
      "array 2d jadi 1d : [ 0  1  2  3  4  5  6  7  8  9 10 11]\n"
     ]
    }
   ],
   "source": [
    "array = np.arange(12)\n",
    "print(f\"array asli : {array}\")\n",
    "\n",
    "# Mengubah array ke 2D (3x4)\n",
    "array_2d = array.reshape(3,4)\n",
    "print(f\"array 2D : {array_2d}\")\n",
    "\n",
    "# Mengubah array ke 3D (2x2x3)\n",
    "array_3d = array.reshape(2,2,3)\n",
    "print(f\"array 3D : {array_3d}\")\n",
    "\n",
    "array.shape = (6,2)\n",
    "print(array)\n",
    "\n",
    "# Meratakan array \n",
    "array_flattened = array_2d.flatten()\n",
    "print(f\"array 2d jadi 1d : {array_flattened}\")"
   ]
  },
  {
   "cell_type": "markdown",
   "id": "b57ee002-3aa5-4970-b09c-1dfb787b1eb1",
   "metadata": {
    "jp-MarkdownHeadingCollapsed": true
   },
   "source": [
    "### Indexing dan Slicing pada Array \n",
    "- Indexing digunakan untuk mengambil elemen tertentu dari array.\n",
    "- Slicing digunakan untuk mengambil sebagian elemen array berdasarkan format [start:stop:step]."
   ]
  },
  {
   "cell_type": "code",
   "execution_count": 48,
   "id": "300a86ee-2d06-4ab1-b2ae-a697bbb6af39",
   "metadata": {},
   "outputs": [
    {
     "name": "stdout",
     "output_type": "stream",
     "text": [
      "Element pertama : 10\n",
      "Element terakhir : 50\n",
      "Slicing element 2 sampai 4 : [20 30 40]\n",
      "Element baris pertama, kolom 2: 5\n",
      "Slice baris 1 dan 2, semua kolom: [[1 2 3]\n",
      " [4 5 6]]\n",
      "Slice semua baris, kolom 1 dan 2: [[2 3]\n",
      " [5 6]\n",
      " [8 9]]\n"
     ]
    }
   ],
   "source": [
    "# Array 1D \n",
    "array_1d = np.array([10,20,30,40,50])\n",
    "print(f\"Element pertama : {array_1d[0]}\")\n",
    "print(f\"Element terakhir : {array_1d[-1]}\")\n",
    "print(f\"Slicing element 2 sampai 4 : {array_1d[1:4]}\")\n",
    "\n",
    "# Array 2D\n",
    "array_2d = np.array([[1,2,3],[4,5,6],[7,8,9]])\n",
    "print(f\"Element baris pertama, kolom 2: {array_2d[1,1]}\")\n",
    "print(f\"Slice baris 1 dan 2, semua kolom: {array_2d[:2,:]}\")\n",
    "print(f\"Slice semua baris, kolom 1 dan 2: {array_2d[:,1:3]}\")"
   ]
  },
  {
   "cell_type": "markdown",
   "id": "6c6ef204-b096-422e-8b9e-27cedc2e35bd",
   "metadata": {
    "jp-MarkdownHeadingCollapsed": true
   },
   "source": [
    "### Mengubah Nilai Elemen Array\n",
    "\n",
    "Array NumPy mendukung pengubahan nilai elemen secara langsung dengan menggunakan indeks."
   ]
  },
  {
   "cell_type": "code",
   "execution_count": 54,
   "id": "13724ae8-9f71-4854-8f1d-f6d742d5b6d5",
   "metadata": {},
   "outputs": [
    {
     "name": "stdout",
     "output_type": "stream",
     "text": [
      "sebelum array dirubah : [0 1 2 3 4 5]\n",
      "setelah dirubah : [ -1   1   2   3   4 100]\n",
      "setelah dirubah ke 2 kali : [ -1  10  20  30   4 100]\n"
     ]
    }
   ],
   "source": [
    "array = np.arange(6)\n",
    "print(f\"sebelum array dirubah : {array}\")\n",
    "\n",
    "array[0] = -1\n",
    "array[-1] = 100\n",
    "print(f\"setelah dirubah : {array}\")\n",
    "\n",
    "array[1:4] = [10,20,30]\n",
    "print(f\"setelah dirubah ke 2 kali : {array}\")"
   ]
  },
  {
   "cell_type": "markdown",
   "id": "50c251c9-b0bf-4e8d-9f72-b12b527afab7",
   "metadata": {
    "jp-MarkdownHeadingCollapsed": true
   },
   "source": [
    "### Operasi Matematika Dasar (+, -, *, /)\n",
    "\n",
    "Operasi matematika pada NumPy array diterapkan secara elemen-per-elemen."
   ]
  },
  {
   "cell_type": "code",
   "execution_count": 57,
   "id": "fc31acef-d188-4dc8-b0de-713edf48b8b0",
   "metadata": {},
   "outputs": [
    {
     "name": "stdout",
     "output_type": "stream",
     "text": [
      "[0 1 2 3 4]\n",
      "array setelah ditambahkan 5: [5 6 7 8 9]\n",
      "array setelah dikurangkan 5: [-5 -4 -3 -2 -1]\n",
      "array setelah dikali 5: [ 0  5 10 15 20]\n",
      "array setelah dibagi 5: [0.  0.2 0.4 0.6 0.8]\n"
     ]
    }
   ],
   "source": [
    "array = np.arange(5)\n",
    "print(array)\n",
    "\n",
    "array_add = array + 5\n",
    "print(f\"array setelah ditambahkan 5: {array_add}\")\n",
    "\n",
    "array_sub = array - 5\n",
    "print(f\"array setelah dikurangkan 5: {array_sub}\")\n",
    "\n",
    "array_mul = array * 5\n",
    "print(f\"array setelah dikali 5: {array_mul}\")\n",
    "\n",
    "array_div = array / 5\n",
    "print(f\"array setelah dibagi 5: {array_div}\")"
   ]
  },
  {
   "cell_type": "markdown",
   "id": "860a8a59-6793-48dd-8dbd-621219bc67ad",
   "metadata": {
    "jp-MarkdownHeadingCollapsed": true
   },
   "source": [
    "### Atribut Array\n",
    "\n",
    "NumPy menyediakan atribut seperti shape dan size untuk memeriksa dimensi dan jumlah elemen array."
   ]
  },
  {
   "cell_type": "code",
   "execution_count": 62,
   "id": "e3b704fb-dec2-4ac9-a714-c88bbdfa9dcb",
   "metadata": {},
   "outputs": [
    {
     "name": "stdout",
     "output_type": "stream",
     "text": [
      "[[1 2 3]\n",
      " [4 5 6]]\n",
      "Shape array : (2, 3)\n",
      "Size array : 6\n"
     ]
    }
   ],
   "source": [
    "array = np.array([[1,2,3],[4,5,6]])\n",
    "print(array)\n",
    "print(f\"Shape array : {array.shape}\")\n",
    "print(f\"Size array : {array.size}\")"
   ]
  },
  {
   "cell_type": "markdown",
   "id": "1cdc5983-88ce-4efc-89e8-39625c15fab2",
   "metadata": {},
   "source": [
    "### Fungsi Statistik\n",
    "\n",
    "Fungsi statistik seperti mean(), sum(), min(), dan max() dapat digunakan pada array."
   ]
  },
  {
   "cell_type": "code",
   "execution_count": 69,
   "id": "5d080dda-7e05-48c8-ac4b-52ee9633f9a9",
   "metadata": {},
   "outputs": [
    {
     "name": "stdout",
     "output_type": "stream",
     "text": [
      "Rata rata: 3.0\n",
      "Jumlah seluruh elemen: 15\n",
      "Element minimum: 1\n",
      "Element maximum: 5\n"
     ]
    }
   ],
   "source": [
    "array = np.array([1,2,3,4,5])\n",
    "\n",
    "print(f\"Rata rata: {array.mean()}\")\n",
    "print(f\"Jumlah seluruh elemen: {array.sum()}\")\n",
    "print(f\"Element minimum: {array.min()}\")\n",
    "print(f\"Element maximum: {array.max()}\")"
   ]
  },
  {
   "cell_type": "markdown",
   "id": "07abe256-1b93-4b5d-8b6f-4f37d64d0464",
   "metadata": {},
   "source": [
    "### Distribusi Probabilitas\n",
    "Distribusi probabilitas digunakan untuk menggambarkan bagaimana data tersebar. NumPy menyediakan berbagai fungsi untuk membuat array sesuai distribusi tertentu."
   ]
  },
  {
   "cell_type": "markdown",
   "id": "4f889b3a-b698-4c37-8585-4a83b529f8fc",
   "metadata": {},
   "source": [
    "#### Distribusi Normal\n",
    "\n",
    "Distribusi normal memiliki penyebaran data yang simetris dan sering digunakan dalam statistik. \n",
    "\n",
    "Sintaks ```np.random.normal(loc, scale, size)```\n",
    "\n",
    "- loc: Mean (rata-rata) distribusi (default 0).\n",
    "- scale: Standar deviasi distribusi (default 1).\n",
    "- size: Ukuran array."
   ]
  },
  {
   "cell_type": "code",
   "execution_count": 77,
   "id": "7ede10a6-efa5-4170-9a34-1a80a75faa37",
   "metadata": {},
   "outputs": [
    {
     "name": "stdout",
     "output_type": "stream",
     "text": [
      "[ 8.28788133  8.89201494  9.45227022  9.31655074 10.115741  ]\n",
      "9.212891644923193\n"
     ]
    }
   ],
   "source": [
    "array_normal = np.random.normal(loc=9,scale=1, size= 5)\n",
    "print(array_normal)\n",
    "print(array_normal.mean())"
   ]
  },
  {
   "cell_type": "markdown",
   "id": "07b6c051-7acc-4358-8427-1ed1844af3d2",
   "metadata": {},
   "source": [
    "#### Distribusi Uniform\n",
    "\n",
    "Distribusi uniform memiliki probabilitas yang sama untuk semua nilai dalam rentang tertentu.\n",
    "\n",
    "Sintaks : ```np.random.uniform(low, high, size)```\n",
    "- low: Batas bawah (default 0).\n",
    "- high: Batas atas (default 1).\n",
    "- size: Ukuran array."
   ]
  },
  {
   "cell_type": "code",
   "execution_count": 78,
   "id": "37b4bae6-1b82-44f5-95c3-45d6539a8801",
   "metadata": {},
   "outputs": [
    {
     "name": "stdout",
     "output_type": "stream",
     "text": [
      "[0.61370326 9.08706026 1.05302047 2.92239337 9.53431143]\n"
     ]
    }
   ],
   "source": [
    "array_uniform = np.random.uniform(low=0, high=10, size=5)\n",
    "print(array_uniform)"
   ]
  },
  {
   "cell_type": "code",
   "execution_count": null,
   "id": "196ede9e-6cda-498e-a30c-ed5cb40a53bd",
   "metadata": {},
   "outputs": [],
   "source": []
  }
 ],
 "metadata": {
  "kernelspec": {
   "display_name": "Python 3 (ipykernel)",
   "language": "python",
   "name": "python3"
  },
  "language_info": {
   "codemirror_mode": {
    "name": "ipython",
    "version": 3
   },
   "file_extension": ".py",
   "mimetype": "text/x-python",
   "name": "python",
   "nbconvert_exporter": "python",
   "pygments_lexer": "ipython3",
   "version": "3.13.1"
  }
 },
 "nbformat": 4,
 "nbformat_minor": 5
}
