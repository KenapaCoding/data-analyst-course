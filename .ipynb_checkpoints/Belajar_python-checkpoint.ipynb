{
 "cells": [
  {
   "cell_type": "markdown",
   "id": "563551ca-aba6-4986-9ac6-35242bf9cf63",
   "metadata": {
    "jp-MarkdownHeadingCollapsed": true
   },
   "source": [
    "### Apa itu variable\n",
    "Variabel digunakan untuk menyimpan data. Anda dapat menyimpan tipe data seperti angka, teks, atau struktur data kompleks."
   ]
  },
  {
   "cell_type": "code",
   "execution_count": 1,
   "id": "e7fd02e8-551c-45e3-8db3-38a10fcc4e4a",
   "metadata": {},
   "outputs": [],
   "source": [
    "hari_ini = \"selasa\""
   ]
  },
  {
   "cell_type": "code",
   "execution_count": 2,
   "id": "a11d9ff0-9d3d-47e1-af8d-e11210fd0534",
   "metadata": {},
   "outputs": [],
   "source": [
    "# Menyimpan data penjualan di dalam variable\n",
    "penjualan_hari_ini = 150\n",
    "penjualan_kemarin = 200\n",
    "\n",
    "pertumbuhan_penjualan = penjualan_hari_ini - penjualan_kemarin"
   ]
  },
  {
   "cell_type": "code",
   "execution_count": 3,
   "id": "960702fc-9498-4e73-b14e-fc51efa012be",
   "metadata": {},
   "outputs": [
    {
     "name": "stdout",
     "output_type": "stream",
     "text": [
      "150\n",
      "200\n",
      "-50\n"
     ]
    }
   ],
   "source": [
    "# print data/variable\n",
    "print(penjualan_hari_ini)\n",
    "print(penjualan_kemarin)\n",
    "print(pertumbuhan_penjualan)"
   ]
  },
  {
   "cell_type": "markdown",
   "id": "9e7dcf2a-36b4-4379-816a-043c61a6fc65",
   "metadata": {
    "jp-MarkdownHeadingCollapsed": true
   },
   "source": [
    "### Tipe Data Umum di Python:\n",
    "\n",
    "int: Angka bulat\n",
    "\n",
    "float: Angka desimal\n",
    "\n",
    "str: Teks\n",
    "\n",
    "bool: True/False"
   ]
  },
  {
   "cell_type": "code",
   "execution_count": 4,
   "id": "67927c39-a2f2-4d35-9c4b-7d5729035209",
   "metadata": {},
   "outputs": [],
   "source": [
    "# Membuat data dari tipe data umum\n",
    "jumlah_barang_masuk = 110 #integer\n",
    "hari_barang_masuk = \"senin\" #str\n",
    "berat_barang = 3.5 #float ton\n",
    "barang_baru = True #bool"
   ]
  },
  {
   "cell_type": "code",
   "execution_count": 5,
   "id": "f90e5f4e-567d-43e4-8f8e-2262b4f1bd3c",
   "metadata": {},
   "outputs": [
    {
     "name": "stdout",
     "output_type": "stream",
     "text": [
      "110 <class 'int'>\n",
      "senin <class 'str'>\n",
      "3.5 <class 'float'>\n",
      "True <class 'bool'>\n"
     ]
    }
   ],
   "source": [
    "# print data variable dan tipe data\n",
    "print(jumlah_barang_masuk, type(jumlah_barang_masuk))\n",
    "print(hari_barang_masuk, type(hari_barang_masuk))\n",
    "print(berat_barang, type(berat_barang))\n",
    "print(barang_baru, type(barang_baru))"
   ]
  },
  {
   "cell_type": "markdown",
   "id": "5f7757db-edee-458a-bb0b-db83d8e34c65",
   "metadata": {
    "jp-MarkdownHeadingCollapsed": true
   },
   "source": [
    "### String formatting\n",
    "String formatting digunakan untuk menggabungkan teks dengan variabel.\n",
    "- F-Strings adalah metode terbaru dan paling direkomendasikan (Python 3.6 ke atas). Kita dapat langsung menempatkan variabel dalam string dengan {} dan mendahului string dengan huruf f."
   ]
  },
  {
   "cell_type": "code",
   "execution_count": 6,
   "id": "531688e0-5f54-4a3b-8784-3e2606d565c0",
   "metadata": {},
   "outputs": [
    {
     "name": "stdout",
     "output_type": "stream",
     "text": [
      "Jumlah barang yang masuk : 110 pcs\n",
      "Hari barang masuk : senin\n",
      "Berat barang yang masuk : 3.5 ton\n",
      "Apakah barang yang masuk itu baru : True\n"
     ]
    }
   ],
   "source": [
    "print(f\"Jumlah barang yang masuk : {jumlah_barang_masuk} pcs\")\n",
    "print(f\"Hari barang masuk : {hari_barang_masuk}\")\n",
    "print(f\"Berat barang yang masuk : {berat_barang} ton\")\n",
    "print(f\"Apakah barang yang masuk itu baru : {barang_baru}\")"
   ]
  },
  {
   "cell_type": "code",
   "execution_count": 7,
   "id": "1d174a46-a59f-4db0-be7e-c48ef9712f9e",
   "metadata": {},
   "outputs": [
    {
     "name": "stdout",
     "output_type": "stream",
     "text": [
      "Jumlah barang yang masuk : 110 pcs\n"
     ]
    }
   ],
   "source": [
    "print(\"Jumlah barang yang masuk :\",jumlah_barang_masuk,\"pcs\")"
   ]
  },
  {
   "cell_type": "markdown",
   "id": "e82aa42a-a15c-4095-b741-1daa6f19670e",
   "metadata": {
    "jp-MarkdownHeadingCollapsed": true
   },
   "source": [
    "### Operator Dasar:\n",
    "\n",
    "- Aritmatika: +, -, *, /\n",
    "\n",
    "- Perbandingan: ==, !=, >, <"
   ]
  },
  {
   "cell_type": "code",
   "execution_count": 8,
   "id": "4f4b59bb-a49b-4f84-b1f5-fbdb17fe87d7",
   "metadata": {},
   "outputs": [
    {
     "name": "stdout",
     "output_type": "stream",
     "text": [
      "350\n",
      "True\n"
     ]
    }
   ],
   "source": [
    "# Data penjualan\n",
    "penjualan_a = 150\n",
    "penjualan_b = 200\n",
    "\n",
    "# menjumlahkan data penjualan a dan b\n",
    "jumlah_penjualan = penjualan_a + penjualan_b\n",
    "\n",
    "# membandingkan penjualan a dan b\n",
    "perbandingan_penjualan = penjualan_a != penjualan_b\n",
    "\n",
    "# print data \n",
    "print(jumlah_penjualan)\n",
    "print(perbandingan_penjualan)"
   ]
  },
  {
   "cell_type": "markdown",
   "id": "08d21d5f-1e49-453e-94c1-4bdb967e5d0c",
   "metadata": {
    "jp-MarkdownHeadingCollapsed": true
   },
   "source": [
    "### Lists, Dictionaries, Tupple dan Sets\n",
    "\n",
    "- List digunakan untuk menyimpan kumpulan data.\n",
    "- Dictionaries menyimpan data dalam pasangan kunci-nilai.\n",
    "- Tuples adalah merupakan kumpulan data tapi bersifat immutable.\n",
    "- Sets menyimpan data unik. dan bersifat unordered artinya tidak dapat diakses langsung dengan indeks"
   ]
  },
  {
   "cell_type": "code",
   "execution_count": 24,
   "id": "c4c00a5c-9511-4388-a8c8-5814344bd08c",
   "metadata": {},
   "outputs": [
    {
     "name": "stdout",
     "output_type": "stream",
     "text": [
      "5\n",
      "200\n",
      "400\n",
      "[150, 200, 300, 350, 400]\n",
      "[125, 200, 300, 350, 400]\n"
     ]
    }
   ],
   "source": [
    "# List data penjualan mingguan\n",
    "penjualan_mingguan = [150,200,300,350,400]\n",
    "# mengecek panjang list\n",
    "print(len(penjualan_mingguan))\n",
    "# akses list dari indeks, indeks itu selalu dimulai dari nol\n",
    "print(penjualan_mingguan[1])\n",
    "print(penjualan_mingguan[-1])\n",
    "\n",
    "print(penjualan_mingguan)\n",
    "\n",
    "penjualan_mingguan[0] = 125\n",
    "print(penjualan_mingguan)"
   ]
  },
  {
   "cell_type": "code",
   "execution_count": 20,
   "id": "9b6d8d9f-ac21-4ddc-a82c-ed9841a52daa",
   "metadata": {},
   "outputs": [
    {
     "name": "stdout",
     "output_type": "stream",
     "text": [
      "{'Produk A': 150, 'Produk B': 200, 'Produk C': 250}\n",
      "150\n",
      "None\n"
     ]
    }
   ],
   "source": [
    "# Data penjualan berdasarkan produk\n",
    "penjualan_produk = {\n",
    "    \"Produk A\" : 150,\n",
    "    \"Produk B\" : 200,\n",
    "    \"Produk C\" : 250\n",
    "}\n",
    "\n",
    "print(penjualan_produk)\n",
    "\n",
    "# akses dictionary\n",
    "print(penjualan_produk[\"Produk A\"])\n",
    "print(penjualan_produk.get(\"Produk AB\"))"
   ]
  },
  {
   "cell_type": "code",
   "execution_count": 26,
   "id": "d352715f-9890-4b78-9c1a-e792876aa38a",
   "metadata": {},
   "outputs": [
    {
     "name": "stdout",
     "output_type": "stream",
     "text": [
      "(100, 200, 300)\n",
      "100\n"
     ]
    }
   ],
   "source": [
    "# Data tetap\n",
    "harga_barang_january = (100,200,300)\n",
    "\n",
    "# print data\n",
    "print(harga_barang_january)\n",
    "print(harga_barang_january[0])\n",
    "\n",
    "# harga_barang_january[0] = 125"
   ]
  },
  {
   "cell_type": "code",
   "execution_count": 31,
   "id": "1ad249db-0dfb-4680-bc25-fc09a38c2a95",
   "metadata": {},
   "outputs": [
    {
     "name": "stdout",
     "output_type": "stream",
     "text": [
      "{'BUDI', 'CITRA', 'ALI'}\n"
     ]
    }
   ],
   "source": [
    "# Data pelanggan unik\n",
    "pelanggan = {\"ALI\", \"BUDI\",\"CITRA\", \"ALI\"}\n",
    "print(pelanggan)\n",
    "# akses sets pelanggan dengan indeks\n",
    "# pelanggan[0]"
   ]
  },
  {
   "cell_type": "markdown",
   "id": "0e5b1265-8ab4-4583-9194-5d4597446f7a",
   "metadata": {
    "jp-MarkdownHeadingCollapsed": true
   },
   "source": [
    "### Conditional Statements\n",
    "\n",
    "Kondisional digunakan untuk pengambilan keputusan."
   ]
  },
  {
   "cell_type": "code",
   "execution_count": 44,
   "id": "a231f45b-823a-4490-946c-4aba32100cd6",
   "metadata": {},
   "outputs": [
    {
     "name": "stdout",
     "output_type": "stream",
     "text": [
      "Selamat anda berhak mendapatkan bonus\n",
      "Selamat anda berhak mendapatkan bonus\n"
     ]
    }
   ],
   "source": [
    "# Menentukan status bonus dari data penjualan\n",
    "penjualan = 180\n",
    "if penjualan > 200 : \n",
    "    print(\"Selamat anda mendapatkan bonus double\")\n",
    "elif penjualan > 100 :\n",
    "    print(\"Selamat anda berhak mendapatkan bonus\")\n",
    "    print(\"Selamat anda berhak mendapatkan bonus\")\n",
    "else :\n",
    "    print(\"Anda tidak mendapatkan bonus\")"
   ]
  },
  {
   "cell_type": "markdown",
   "id": "9c918716-e445-4e5f-836f-eef57d878c92",
   "metadata": {
    "jp-MarkdownHeadingCollapsed": true
   },
   "source": [
    "### Soal:\n",
    "Buatlah sebuah list yang berisi data penjualan harian sebuah toko dalam satu minggu. Contohnya:\n",
    "- Senin: 200\n",
    "- Selasa: 300\n",
    "- Rabu: 250\n",
    "- Kamis: 400\n",
    "- Jumat: 350\n",
    "- Sabtu: 275\n",
    "- Minggu: 325\n",
    "\n",
    "Hitung:\n",
    "- Total penjualan selama satu minggu. hint : sum(list)\n",
    "- Rata-rata penjualan per hari.\n",
    "\n",
    "Lalu Tambahkan juga kondisi\n",
    "- Jika total penjualan lebih dari 2000\n",
    "  - Cek apakah rata_rata_penjualan lebih dari 300:\n",
    "    - Jika ya, tampilkan kesimpulan: \"Penjualan bagus minggu ini! Rata-rata penjualan memuaskan.\"\n",
    "    - Jika tidak, tampilkan kesimpulan: \"Penjualan bagus minggu ini!\"\n",
    "- Jika total penjualan kurang dari atau sama dengan 2000, tampilkan pesan \"Perlu meningkatkan penjualan minggu depan.\""
   ]
  },
  {
   "cell_type": "code",
   "execution_count": 4,
   "id": "85678091-bc7c-4b86-9cdb-fd508b6b198a",
   "metadata": {},
   "outputs": [
    {
     "name": "stdout",
     "output_type": "stream",
     "text": [
      "Daftar penjualan harian : [210, 100, 250, 400, 350, 275, 325]\n",
      "Total penjualan harian : 1910\n",
      "Rata-rata penjualan : 272.85714285714283\n",
      "Kesimpulan : Perlu meningkatkan penjualan minggu depan.\n"
     ]
    }
   ],
   "source": [
    "# 1. Membuat daftar penjualan harian selama satu minggu\n",
    "penjualan_harian = [210,100,250,400,350,275,325]\n",
    "\n",
    "# 2. Menghitung total penjualan\n",
    "total_penjualan = sum(penjualan_harian)\n",
    "\n",
    "# 3. Menghitung rata rata penjualan per hari\n",
    "rata_rata_penjualan = total_penjualan / len(penjualan_harian)\n",
    "\n",
    "# 4. Logika conditional\n",
    "if total_penjualan > 2000:\n",
    "    if rata_rata_penjualan > 300:\n",
    "        kesimpulan = \"Penjualan bagus minggu ini! Rata-rata penjualan memuaskan.\"\n",
    "    else:\n",
    "        kesimpulan = \"Penjualan bagus minggu ini!\"\n",
    "else:\n",
    "    kesimpulan = \"Perlu meningkatkan penjualan minggu depan.\"\n",
    "    \n",
    "\n",
    "# 5. Print Hasil\n",
    "print(f\"Daftar penjualan harian : {penjualan_harian}\")\n",
    "print(f\"Total penjualan harian : {total_penjualan}\")\n",
    "print(f\"Rata-rata penjualan : {rata_rata_penjualan}\")\n",
    "print(f\"Kesimpulan : {kesimpulan}\")"
   ]
  },
  {
   "cell_type": "markdown",
   "id": "31bc5616-ed55-4642-a04f-b78c0e04becc",
   "metadata": {
    "jp-MarkdownHeadingCollapsed": true
   },
   "source": [
    "### Operator Logika\n",
    "Operator Logika (and, or, not) digunakan untuk mengevaluasi kondisi secara logis. Ini sangat berguna dalam pemfilteran data dan analisis kondisi."
   ]
  },
  {
   "cell_type": "markdown",
   "id": "b6f8d50c-528f-45e6-a9ad-fb5cc12cb09e",
   "metadata": {},
   "source": [
    "| **Operator** | **Deskripsi**                                  | **Contoh**          | **Nilai x** | **Nilai y** | **Hasil** |\n",
    "|--------------|-----------------------------------------------|---------------------|-------------|-------------|-----------|\n",
    "| `and`       | Mengembalikan `True` jika semua kondisi bernilai `True` | `x > 5 and y < 10`  | 6           | 9           | `True`    |\n",
    "| `and`       |                                              | `x > 5 and y < 10`  | 4           | 9           | `False`   |\n",
    "| `or`        | Mengembalikan `True` jika salah satu kondisi bernilai `True` | `x > 5 or y < 10`   | 6           | 11          | `True`    |\n",
    "| `or`        |                                              | `x > 5 or y < 10`   | 4           | 11          | `False`   |\n",
    "| `not`       | Membalikkan nilai kondisi (`True` menjadi `False`) | `not(x > 5)`        | 4           | -           | `True`    |\n",
    "| `not`       |                                              | `not(x > 5)`        | 6           | -           | `False`   |\n",
    "  |\n"
   ]
  },
  {
   "cell_type": "markdown",
   "id": "50f77c36-14a6-4391-88f1-06535f9de5ce",
   "metadata": {
    "jp-MarkdownHeadingCollapsed": true
   },
   "source": [
    "### Soal Cerita Gabungan\n",
    "\n",
    "Gudang ABC menyimpan berbagai jenis barang. Saat ini, gudang memiliki data sebagai berikut:\n",
    "\n",
    "```python\n",
    "jumlah_barang = 110  # integer\n",
    "berat_barang = 3.5  # float (ton)\n",
    "barang_baru = True  # boolean\n",
    "```\n",
    "Manajer gudang membutuhkan beberapa analisis berdasarkan data tersebut untuk keperluan audit dan pengambilan keputusan. Bantulah manajer dengan menjawab pertanyaan-pertanyaan berikut menggunakan kode Python:\n",
    "\n",
    "##### 1. Persediaan Cukup untuk Permintaan Besar?\n",
    "    Gudang ingin memastikan persediaan cukup jika:\n",
    "    - Jumlah barang lebih dari 100 dan berat barang lebih dari 3 ton. \n",
    "    \n",
    "   Tentukan apakah persediaan memenuhi syarat ini!\n",
    "\n",
    "##### 2. Barang Lama atau Ringan?\n",
    "    Gudang memiliki aturan bahwa barang dianggap prioritas jika memenuhi salah satu dari kondisi berikut:\n",
    "    - Barang bukan barang baru.\n",
    "    - Berat barang kurang dari 4 ton.\n",
    "\n",
    "    Tentukan apakah barang ini termasuk prioritas!\n",
    "\n",
    "##### 3. Kelayakan Barang untuk Ekspor \n",
    "    Barang hanya dapat diekspor jika:\n",
    "    - Jumlah barang lebih dari 120, atau\n",
    "    - Barang tersebut adalah barang baru dan beratnya lebih dari 3 ton.\n",
    "    \n",
    "    Tentukan apakah barang ini layak untuk ekspor!\n",
    "##### 4. Barang Tidak Sesuai untuk Audit\n",
    "    Barang akan diberi label Tidak Sesuai jika:\n",
    "    - Jumlah barang kurang dari atau sama dengan 100, dan\n",
    "    - Barang bukan barang baru.\n",
    "    \n",
    "    Tentukan apakah barang ini termasuk kategori Tidak Sesuai!\n",
    "##### 5. Barang Ideal untuk Pengiriman Lokal\n",
    "    Barang ideal untuk pengiriman lokal harus memenuhi semua syarat berikut:\n",
    "    - Jumlah barang lebih dari 50.\n",
    "    - Berat barang berada di antara 2 ton hingga 5 ton (inklusif).\n",
    "    - Barang adalah barang baru.\n",
    "    \n",
    "    Tentukan apakah barang ini ideal untuk pengiriman lokal!"
   ]
  },
  {
   "cell_type": "code",
   "execution_count": 5,
   "id": "a94f21c8-8a3a-454b-a59c-5b3910952429",
   "metadata": {},
   "outputs": [
    {
     "name": "stdout",
     "output_type": "stream",
     "text": [
      "1. Persediaan cukup : True\n",
      "2. Barang prioritas : True\n",
      "3. Layak untuk ekspor : True\n",
      "4. Tidak sesuai untuk di audit : False\n",
      "5. Barang ideal untuk pengiriman lokal : True\n"
     ]
    }
   ],
   "source": [
    "# Data barang\n",
    "jumlah_barang = 110  # integer\n",
    "berat_barang = 3.5  # float (ton)\n",
    "barang_baru = True  # boolean\n",
    "\n",
    "# 1.Persediaan Cukup untuk Permintaan Besar?\n",
    "persediaan_cukup = jumlah_barang > 100 and berat_barang > 3\n",
    "print(f\"1. Persediaan cukup : {persediaan_cukup}\")\n",
    "\n",
    "# 2.Barang lama atau ringan\n",
    "prioritas = not barang_baru or berat_barang < 4\n",
    "print(f\"2. Barang prioritas : {prioritas}\")\n",
    "\n",
    "# 3.Kelayakan Barang untuk Ekspor\n",
    "layak_ekspor = jumlah_barang > 120 or (barang_baru and berat_barang > 3)\n",
    "print(f\"3. Layak untuk ekspor : {layak_ekspor}\")\n",
    "\n",
    "# 4.Barang Tidak Sesuai untuk Audit\n",
    "tidak_sesuai = jumlah_barang <= 100 and not barang_baru\n",
    "print(f\"4. Tidak sesuai untuk di audit : {tidak_sesuai}\")\n",
    "\n",
    "# 5.Barang Ideal untuk Pengiriman Lokal\n",
    "ideal_pengiriman = jumlah_barang > 50 and 2 <= berat_barang <= 5 and barang_baru\n",
    "print(f\"5. Barang ideal untuk pengiriman lokal : {ideal_pengiriman}\")"
   ]
  },
  {
   "cell_type": "markdown",
   "id": "e3725b38-2b8f-4863-9b02-3136925c3bc0",
   "metadata": {
    "jp-MarkdownHeadingCollapsed": true
   },
   "source": [
    "### Membership Operator\n",
    "Membership Operator digunakan untuk memeriksa apakah suatu nilai atau elemen ada di dalam sebuah koleksi (seperti string, list, tuple, dictionary, set, dll.).\n",
    "\n",
    "Python memiliki dua membership operator, yaitu:\n",
    "\n",
    "- in → Mengembalikan True jika nilai atau elemen ada dalam koleksi.\n",
    "- not in → Mengembalikan True jika nilai atau elemen tidak ada dalam koleksi."
   ]
  },
  {
   "cell_type": "code",
   "execution_count": 13,
   "id": "46e55f97-cbdf-4cee-95e5-30af30240333",
   "metadata": {},
   "outputs": [
    {
     "name": "stdout",
     "output_type": "stream",
     "text": [
      "True\n",
      "True\n"
     ]
    }
   ],
   "source": [
    "# 1. Membership operator pada list\n",
    "buah = [\"apel\", \"jeruk\", \"mangga\"]\n",
    "\n",
    "# print(\"apel\" in buah) \n",
    "# print(\"pisang\" not in buah)\n",
    "\n",
    "# 2. Membership operator pada string\n",
    "teks = \"Mari belajar python\"\n",
    "print(\"python\" in teks)\n",
    "print(\"java\" not in teks)"
   ]
  },
  {
   "cell_type": "markdown",
   "id": "60af05bd-6b58-4e51-aae4-00e84cd10e13",
   "metadata": {
    "jp-MarkdownHeadingCollapsed": true
   },
   "source": [
    "### Looping\n",
    "\n",
    "Looping adalah salah satu konsep fundamental dalam pemrograman yang memungkinkan eksekusi suatu blok kode berulang kali. Python menyediakan dua jenis loop utama:\n",
    "\n",
    "1. For loop - Digunakan untuk mengulangi elemen dalam suatu koleksi (seperti list, string, atau range).\n",
    "\n",
    "2. While loop - Digunakan untuk mengulang selama kondisi tertentu terpenuhi."
   ]
  },
  {
   "cell_type": "code",
   "execution_count": 22,
   "id": "14477f56-82b5-4cd0-9be4-917c3bb3b00b",
   "metadata": {},
   "outputs": [
    {
     "name": "stdout",
     "output_type": "stream",
     "text": [
      "Andi\n",
      "Budi\n",
      "Citra\n",
      "Dewi\n",
      "Pembeli ke 1 : Andi\n",
      "Pembeli ke 2 : Budi\n",
      "Pembeli ke 3 : Citra\n",
      "Pembeli ke 4 : Dewi\n"
     ]
    }
   ],
   "source": [
    "# Daftar nama pembeli\n",
    "nama_pembeli = [\"Andi\", \"Budi\", \"Citra\", \"Dewi\"]\n",
    "\n",
    "# Menampilkan nama pembeli\n",
    "# print(f\"Pembeli ke 1 : {nama_pembeli[0]}\")\n",
    "# print(f\"Pembeli ke 2 : {nama_pembeli[1]}\")\n",
    "# print(f\"Pembeli ke 3 : {nama_pembeli[2]}\")\n",
    "# print(f\"Pembeli ke 4 : {nama_pembeli[3]}\")\n",
    "\n",
    "for nama in nama_pembeli:\n",
    "    print(nama)\n",
    "\n",
    "# jika ingin mendapatkan indeks, bisa menggunakan enumerate() fungsi\n",
    "for indeks, nama in enumerate(nama_pembeli, start = 1):\n",
    "    print(f\"Pembeli ke {indeks} : {nama}\")"
   ]
  },
  {
   "cell_type": "code",
   "execution_count": 28,
   "id": "f94fabe2-4e92-47b6-8562-cca6a7cd78c2",
   "metadata": {},
   "outputs": [
    {
     "name": "stdout",
     "output_type": "stream",
     "text": [
      "Pembeli ke 1 : Andi\n",
      "Pembeli ke 2 : Budi\n",
      "Pembeli ke 3 : Citra\n",
      "Pembeli ke 4 : Dewi\n"
     ]
    }
   ],
   "source": [
    "# While loop dapat digunakan untuk iterasi yang berbasis kondisi\n",
    "indeks = 0\n",
    "while indeks < len(nama_pembeli):\n",
    "    print(f\"Pembeli ke {indeks + 1} : {nama_pembeli[indeks]}\")\n",
    "    indeks += 1"
   ]
  },
  {
   "cell_type": "markdown",
   "id": "618f87fc-18a2-4183-bd5d-2273c03467ac",
   "metadata": {
    "jp-MarkdownHeadingCollapsed": true
   },
   "source": [
    "### Kontrol Loop\n",
    "\n",
    "Python menyediakan kata kunci untuk mengontrol jalannya looping:\n",
    "\n",
    "- Break - Menghentikan loop secara paksa.\n",
    "\n",
    "- Continue - Melewati iterasi saat ini dan lanjut ke iterasi berikutnya.\n",
    "\n",
    "- Else - Digunakan setelah loop selesai (hanya berlaku jika loop tidak dihentikan oleh break)."
   ]
  },
  {
   "cell_type": "code",
   "execution_count": 33,
   "id": "f5197cc0-60c4-4864-a1d2-f885f0313c15",
   "metadata": {},
   "outputs": [
    {
     "name": "stdout",
     "output_type": "stream",
     "text": [
      "Andi\n",
      "Budi\n",
      "Andi -continue\n",
      "Budi -continue\n",
      "Dewi -continue\n",
      "Andi -else\n",
      "Budi -else\n",
      "Citra -else\n",
      "Dewi -else\n",
      "Loop selesai tanpa break\n"
     ]
    }
   ],
   "source": [
    "# Daftar nama pembeli\n",
    "nama_pembeli = [\"Andi\", \"Budi\", \"Citra\", \"Dewi\"]\n",
    "\n",
    "# Menggunakan break\n",
    "for nama in nama_pembeli:\n",
    "    if nama == \"Citra\":\n",
    "        break\n",
    "    print(nama)\n",
    "    \n",
    "# Menggunakan continue\n",
    "for nama in nama_pembeli:\n",
    "    if nama == \"Citra\":\n",
    "        continue\n",
    "    print(f\"{nama} -continue\")\n",
    "\n",
    "# Menggunakan else\n",
    "for nama in nama_pembeli:\n",
    "    print(f\"{nama} -else\")\n",
    "else:\n",
    "    print(\"Loop selesai tanpa break\")"
   ]
  },
  {
   "cell_type": "markdown",
   "id": "1f0e5dd0-cb25-4d7c-a36b-d4cbe86d9f27",
   "metadata": {},
   "source": [
    "### Soal : Menemukan Barang dengan Nomor Seri Tertentu\n",
    "\n",
    "Dina adalah seorang staf gudang yang sedang melakukan pengecekan stok barang berdasarkan nomor seri. Gudang tempat Dina bekerja menyimpan data stok barang dalam sebuah dictionary dengan format berikut:\n",
    "\n",
    "```python\n",
    "barang_dict = {\n",
    "    \"A001\": 50,\n",
    "    \"A002\": 30,\n",
    "    \"A003\": 70,\n",
    "    \"A004\": 40,\n",
    "    \"A005\": 60\n",
    "}\n",
    "```\n",
    "\n",
    "Setiap nomor seri barang (misalnya, \"A001\", \"A002\") menyimpan informasi tentang jumlah stok barang tersebut dalam satuan *pcs*. Dina ingin memeriksa stok barang dengan nomor seri tertentu, misalnya \"A003\".\n",
    "\n",
    "#### Tugas Anda\n",
    "\n",
    "1. Tuliskan program Python yang mengecek apakah nomor seri tertentu ada dalam dictionary `barang_dict`.\n",
    "2. Jika nomor seri tersebut ditemukan, tampilkan pesan seperti:\n",
    "\n",
    "   > \"Barang dengan nomor seri A003 memiliki jumlah 70 pcs.\"\n",
    "\n",
    "3. Jika nomor seri tidak ditemukan, tampilkan pesan seperti:\n",
    "\n",
    "   > \"Barang dengan nomor seri A003 tidak ditemukan.\"\n",
    "\n",
    "#### Pertanyaan\n",
    "\n",
    "- Berapa jumlah stok barang untuk nomor seri \"A003\"?  \n",
    "- Apa yang akan ditampilkan jika nomor seri \"A006\" dicari?\n",
    "\n",
    "#### Petunjuk\n",
    "\n",
    "Gunakan perintah `if` dan operator `in` untuk memeriksa keberadaan kunci dalam dictionary.\n"
   ]
  },
  {
   "cell_type": "code",
   "execution_count": 10,
   "id": "51d16796-1266-4b77-8c3f-9024100e6731",
   "metadata": {},
   "outputs": [
    {
     "name": "stdout",
     "output_type": "stream",
     "text": [
      "Barang dengan nomor seri A003 memiliki jumlah 70 pcs.\n"
     ]
    }
   ],
   "source": [
    "# Menemukan barang dengan nomor seri tertentu\n",
    "barang_dict = {\n",
    "    \"A001\": 50,\n",
    "    \"A002\": 30,\n",
    "    \"A003\": 70,\n",
    "    \"A004\": 40,\n",
    "    \"A005\": 60\n",
    "}\n",
    "nomor_seri = \"A003\"\n",
    "if nomor_seri in barang_dict:\n",
    "    print(f\"Barang dengan nomor seri {nomor_seri} memiliki jumlah {barang_dict[nomor_seri]} pcs.\")\n",
    "else:\n",
    "    print(f\"Barang dengan nomor seri {nomor_seri} tidak ditemukan.\")\n"
   ]
  },
  {
   "cell_type": "code",
   "execution_count": 11,
   "id": "68c0015e-80cb-4f78-a3a0-e94647dd9116",
   "metadata": {},
   "outputs": [
    {
     "name": "stdout",
     "output_type": "stream",
     "text": [
      "Barang dengan nomor seri A006 tidak ditemukan.\n"
     ]
    }
   ],
   "source": [
    "# Menemukan barang dengan nomor seri tertentu\n",
    "barang_dict = {\n",
    "    \"A001\": 50,\n",
    "    \"A002\": 30,\n",
    "    \"A003\": 70,\n",
    "    \"A004\": 40,\n",
    "    \"A005\": 60\n",
    "}\n",
    "nomor_seri = \"A006\"\n",
    "if nomor_seri in barang_dict:\n",
    "    print(f\"Barang dengan nomor seri {nomor_seri} memiliki jumlah {barang_dict[nomor_seri]} pcs.\")\n",
    "else:\n",
    "    print(f\"Barang dengan nomor seri {nomor_seri} tidak ditemukan.\")"
   ]
  },
  {
   "cell_type": "markdown",
   "id": "70f4dcb5-2449-42b3-b21a-e6ceafaea36a",
   "metadata": {
    "jp-MarkdownHeadingCollapsed": true
   },
   "source": [
    "### Functions\n",
    "\n",
    "Functions digunakan untuk kode yang dapat digunakan ulang."
   ]
  },
  {
   "cell_type": "code",
   "execution_count": 23,
   "id": "94146ead-27d4-4607-bb3d-e5c625c4f95d",
   "metadata": {},
   "outputs": [],
   "source": [
    "def find_item_by_serial_number(nomor_seri, item_dict):\n",
    "    \n",
    "    if nomor_seri in barang_dict:\n",
    "        print(f\"Barang dengan nomor seri {nomor_seri} memiliki jumlah {barang_dict[nomor_seri]} pcs.\")\n",
    "    else:\n",
    "        print(f\"Barang dengan nomor seri {nomor_seri} tidak ditemukan.\")"
   ]
  },
  {
   "cell_type": "code",
   "execution_count": 24,
   "id": "ca997bbc-5e05-4ab9-a5b9-fe33fdb3919e",
   "metadata": {},
   "outputs": [
    {
     "name": "stdout",
     "output_type": "stream",
     "text": [
      "Barang dengan nomor seri A003 memiliki jumlah 70 pcs.\n"
     ]
    }
   ],
   "source": [
    "barang_dict = {\n",
    "    \"A001\": 50,\n",
    "    \"A002\": 30,\n",
    "    \"A003\": 70,\n",
    "    \"A004\": 40,\n",
    "    \"A005\": 60\n",
    "    }\n",
    "find_item_by_serial_number(\"A003\", barang_dict)"
   ]
  },
  {
   "cell_type": "code",
   "execution_count": 20,
   "id": "0b404b5c-7339-4e25-aaed-70b40b85d05a",
   "metadata": {},
   "outputs": [
    {
     "name": "stdout",
     "output_type": "stream",
     "text": [
      "Barang dengan nomor seri A006 tidak ditemukan.\n"
     ]
    }
   ],
   "source": [
    "find_item_by_serial_number(\"A006\")"
   ]
  },
  {
   "cell_type": "code",
   "execution_count": 21,
   "id": "45ba2511-2b4b-422d-a75c-ae4b5087b5dd",
   "metadata": {},
   "outputs": [
    {
     "name": "stdout",
     "output_type": "stream",
     "text": [
      "Barang dengan nomor seri A002 memiliki jumlah 30 pcs.\n"
     ]
    }
   ],
   "source": [
    "find_item_by_serial_number(\"A002\")"
   ]
  },
  {
   "cell_type": "markdown",
   "id": "5629cf1b-a677-4ca2-ba8c-4fb1f6ae2c8b",
   "metadata": {
    "jp-MarkdownHeadingCollapsed": true
   },
   "source": [
    "### Apa itu Module?\n",
    "- Module adalah file Python yang berisi kumpulan fungsi, kelas, dan variabel yang dapat digunakan kembali di program lain.\n",
    "- Module bertujuan untuk membagi program besar menjadi beberapa file kecil sehingga kode lebih rapi, terorganisir, dan mudah dikelola.\n",
    "- File module memiliki ekstensi .py."
   ]
  },
  {
   "cell_type": "code",
   "execution_count": 29,
   "id": "d799f186-8606-494b-8e61-1610b56c1c60",
   "metadata": {},
   "outputs": [
    {
     "name": "stdout",
     "output_type": "stream",
     "text": [
      "Hasil penjumlahan adalah : 8\n",
      "Hasil pengurangan adalah : 2\n"
     ]
    }
   ],
   "source": [
    "from matematika import *\n",
    "\n",
    "hasil_tambah = tambah(5,3)\n",
    "hasil_kurang = kurang(5,3)\n",
    "\n",
    "print(f\"Hasil penjumlahan adalah : {hasil_tambah}\")\n",
    "print(f\"Hasil pengurangan adalah : {hasil_kurang}\")"
   ]
  },
  {
   "cell_type": "code",
   "execution_count": 32,
   "id": "78b4018a-da42-497f-822f-8eb114e7c9d6",
   "metadata": {},
   "outputs": [
    {
     "name": "stdout",
     "output_type": "stream",
     "text": [
      "16.0\n"
     ]
    }
   ],
   "source": [
    "from math import sqrt\n",
    "\n",
    "print(sqrt(256))"
   ]
  },
  {
   "cell_type": "markdown",
   "id": "04370062-92b7-4da3-ad4e-c1543cd10163",
   "metadata": {},
   "source": [
    "### List Comprehension\n",
    "List Comprehension adalah cara singkat dan elegan untuk membuat list baru di Python. List comprehension menggantikan penggunaan for loop tradisional dengan sintaks yang lebih ringkas.\n",
    "\n",
    "Sintaks : ``` list_baru = [expression for item in iterable if condition] ```\n",
    "- expression: Operasi atau nilai yang akan dimasukkan ke dalam list.\n",
    "- item: Variabel yang merepresentasikan setiap elemen dalam iterable.\n",
    "- iterable: Objek yang dapat di-loop (list, tuple, string, range, dll).\n",
    "- condition (opsional): Syarat yang harus dipenuhi agar expression ditambahkan ke list.\n"
   ]
  },
  {
   "cell_type": "code",
   "execution_count": 11,
   "id": "4ddbcab8-0af6-436d-b0ba-974525e9dfd1",
   "metadata": {},
   "outputs": [
    {
     "name": "stdout",
     "output_type": "stream",
     "text": [
      "[1, 4, 9, 16, 25, 36, 49, 64]\n",
      "[1, 4, 9, 16, 25, 36, 49, 64]\n"
     ]
    }
   ],
   "source": [
    "# Membuat list baru dari list lama tanpa list comprehension\n",
    "angka = [1,2,3,4,5,6,7,8]\n",
    "hasil = []\n",
    "for x in angka:\n",
    "    hasil.append(x**2)\n",
    "print(hasil)\n",
    "# Membuat list baru dengan list comprehension\n",
    "hasil_2 = [x**2 for x in angka]\n",
    "print(hasil_2)"
   ]
  },
  {
   "cell_type": "code",
   "execution_count": 13,
   "id": "6c499377-0d4b-428f-a3df-2798735ffcb6",
   "metadata": {},
   "outputs": [
    {
     "name": "stdout",
     "output_type": "stream",
     "text": [
      "[2, 4, 6, 8]\n",
      "[2, 4, 6, 8]\n"
     ]
    }
   ],
   "source": [
    "# Membuat list baru dari list lama tanpa list comprehension\n",
    "angka = [1,2,3,4,5,6,7,8]\n",
    "hasil_genap = []\n",
    "for x in angka:\n",
    "    if x % 2 == 0:\n",
    "        hasil_genap.append(x)\n",
    "print(hasil_genap)\n",
    "# Membuat list baru dengan list comprehension\n",
    "hasil_genap_2 = [x for x in angka if x % 2 == 0]\n",
    "print(hasil_genap_2)"
   ]
  }
 ],
 "metadata": {
  "kernelspec": {
   "display_name": "Python 3 (ipykernel)",
   "language": "python",
   "name": "python3"
  },
  "language_info": {
   "codemirror_mode": {
    "name": "ipython",
    "version": 3
   },
   "file_extension": ".py",
   "mimetype": "text/x-python",
   "name": "python",
   "nbconvert_exporter": "python",
   "pygments_lexer": "ipython3",
   "version": "3.13.1"
  }
 },
 "nbformat": 4,
 "nbformat_minor": 5
}
